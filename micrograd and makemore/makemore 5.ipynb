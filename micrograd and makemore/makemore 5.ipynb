{
 "cells": [
  {
   "cell_type": "code",
   "execution_count": 1,
   "metadata": {},
   "outputs": [],
   "source": [
    "import torch\n",
    "import torch.nn.functional as F\n",
    "import matplotlib.pyplot as plt\n",
    "%matplotlib inline"
   ]
  },
  {
   "cell_type": "code",
   "execution_count": 7,
   "metadata": {},
   "outputs": [
    {
     "name": "stdout",
     "output_type": "stream",
     "text": [
      "total number of words :  32033\n"
     ]
    }
   ],
   "source": [
    "# read all the words\n",
    "words = open(\"names.txt\", \"r\").read().splitlines()\n",
    "print(\"total number of words : \", len(words))\n"
   ]
  },
  {
   "cell_type": "code",
   "execution_count": 8,
   "metadata": {},
   "outputs": [
    {
     "name": "stdout",
     "output_type": "stream",
     "text": [
      "vocab size :  27\n"
     ]
    }
   ],
   "source": [
    "# build the vocablury\n",
    "chars = sorted(list(set(\"\".join(words))))\n",
    "stoi = {s:i+1 for i, s in enumerate(chars)}\n",
    "stoi[\".\"] = 0\n",
    "itos = {i:s for s, i in stoi.items()}\n",
    "vocab_size = len(itos)\n",
    "print(\"vocab size : \", vocab_size)\n"
   ]
  },
  {
   "cell_type": "code",
   "execution_count": 9,
   "metadata": {},
   "outputs": [],
   "source": [
    "# shuffle the words\n",
    "import random\n",
    "random.seed(42)\n",
    "random.shuffle(words)"
   ]
  },
  {
   "cell_type": "code",
   "execution_count": 11,
   "metadata": {},
   "outputs": [],
   "source": [
    "# build the dataset\n",
    "block_size = 3\n",
    "\n",
    "def build_dataset(words):\n",
    "    x, y = [], []\n",
    "    \n",
    "    for w in words:\n",
    "        context = [0] * block_size\n",
    "        for ch in w + \".\":\n",
    "            ix = stoi[ch]\n",
    "            x.append(context)\n",
    "            y.append(ix)\n",
    "            context = context[1:] + [ix]\n",
    "    x = torch.tensor(x)\n",
    "    y = torch.tensor(y)\n",
    "\n",
    "    return x, y\n",
    "\n",
    "n1 = int(0.8 * len(words))\n",
    "n2 = int(0.9 * len(words))\n",
    "\n",
    "xtr, ytr = build_dataset(words[:n1])\n",
    "xdev, ydev = build_dataset(words[n1:n2])\n",
    "xte, yte = build_dataset(words[n2:])\n"
   ]
  },
  {
   "cell_type": "code",
   "execution_count": 62,
   "metadata": {},
   "outputs": [],
   "source": [
    "# Layer modules\n",
    "\n",
    "g = torch.Generator().manual_seed(2147483647)\n",
    "\n",
    "class Linear:\n",
    "    def __init__(self, fan_in, fan_out, bias=True):\n",
    "        self.weights = torch.randn((fan_in, fan_out))\n",
    "        self.bias = torch.randn((fan_out)) if bias else None\n",
    "\n",
    "    def __call__(self, x):\n",
    "        self.out = x @ self.weights\n",
    "        if self.bias is not None:\n",
    "            self.out += self.bias\n",
    "        return self.out\n",
    "    \n",
    "    def parameters(self):\n",
    "        if self.bias is None:\n",
    "            return [self.weights]\n",
    "        return [self.weights, self.bias]\n",
    "    \n",
    "class BatchNorm1d:\n",
    "    def __init__(self, dim, eps = 1e-5, momentum = 0.1):\n",
    "        self.eps = eps\n",
    "        self.momentum = momentum\n",
    "        self.gamma = torch.ones(dim)\n",
    "        self.beta = torch.zeros(dim)\n",
    "        self.training = True\n",
    "        self.running_mean = torch.zeros(dim)\n",
    "        self.running_var = torch.ones(dim)\n",
    "\n",
    "    def __call__(self, x):\n",
    "        if self.training:\n",
    "            xmean = x.mean(0, keepdim=True)\n",
    "            xvar = x.var(0, keepdim=True)\n",
    "        else:\n",
    "            xmean = self.running_mean\n",
    "            xvar = self.running_var\n",
    "\n",
    "        xhat = (x - xmean) / torch.sqrt(xvar + self.eps)\n",
    "        self.out = self.gamma * xhat + self.beta\n",
    "\n",
    "        # update the buffers:\n",
    "        if self.training:\n",
    "            self.running_mean = self.momentum * xmean + (1 - self.momentum) * self.running_mean\n",
    "            self.running_var = self.momentum * xvar + (1 - self.momentum) * self.running_var\n",
    "\n",
    "        return self.out\n",
    "        \n",
    "    def parameters(self):\n",
    "        return [self.gamma, self.beta]\n",
    "    \n",
    "\n",
    "class Tanh:\n",
    "    def __call__(self, x):\n",
    "        self.out = torch.tanh(x)\n",
    "        return self.out\n",
    "    \n",
    "    def parameters(self):\n",
    "        return []\n",
    "    \n",
    "class Embedding:\n",
    "    def __init__(self, num_emb, emb_dim):\n",
    "        self.weight = torch.randn(num_emb, emb_dim)\n",
    "\n",
    "    def __call__(self, IX):\n",
    "        self.out = self.weight[IX]\n",
    "        return self.out\n",
    "\n",
    "    def parameters(self):\n",
    "        return [self.weight]\n",
    "    \n",
    "class Flatten:\n",
    "    def __call__(self, x):\n",
    "        self.out = x.view(x.shape[0], -1)\n",
    "        return self.out\n",
    "    \n",
    "    def parameters(self):\n",
    "        return []\n",
    "    \n",
    "\n",
    "class Sequential:\n",
    "    def __init__(self, layers):\n",
    "        self.layers = layers\n",
    "        self.layers[-1].weights *= 0.1\n",
    "\n",
    "    def __call__(self, x):\n",
    "        for layer in self.layers:\n",
    "            x = layer(x)\n",
    "        self.out = x\n",
    "        return self.out\n",
    "    \n",
    "    def parameters(self):\n",
    "        return [p for layer in self.layers for p in layer.parameters()]\n",
    "\n",
    "\n"
   ]
  },
  {
   "cell_type": "code",
   "execution_count": 63,
   "metadata": {},
   "outputs": [
    {
     "name": "stdout",
     "output_type": "stream",
     "text": [
      "Total params :  12097\n"
     ]
    }
   ],
   "source": [
    "torch.manual_seed(42)\n",
    "\n",
    "n_emb = 10\n",
    "n_hidden = 200\n",
    "\n",
    "model = Sequential([\n",
    "    Embedding(vocab_size, n_emb), Flatten(),\n",
    "    Linear(n_emb * block_size, n_hidden, bias = False), BatchNorm1d(n_hidden), Tanh(),\n",
    "    Linear(n_hidden, vocab_size)\n",
    "])\n",
    "\n",
    "parameters = model.parameters()\n",
    "print(\"Total params : \", sum(p.nelement() for p in parameters))\n",
    "for p in parameters:\n",
    "    p.requires_grad = True\n"
   ]
  },
  {
   "cell_type": "code",
   "execution_count": 64,
   "metadata": {},
   "outputs": [
    {
     "name": "stdout",
     "output_type": "stream",
     "text": [
      "0 / 200000 : loss = 4.3399\n",
      "10000 / 200000 : loss = 2.3501\n",
      "20000 / 200000 : loss = 2.2011\n",
      "30000 / 200000 : loss = 2.0908\n",
      "40000 / 200000 : loss = 2.6488\n",
      "50000 / 200000 : loss = 2.0019\n",
      "60000 / 200000 : loss = 1.9146\n",
      "70000 / 200000 : loss = 2.4571\n",
      "80000 / 200000 : loss = 2.2702\n",
      "90000 / 200000 : loss = 2.2321\n",
      "100000 / 200000 : loss = 2.3930\n",
      "110000 / 200000 : loss = 2.2353\n",
      "120000 / 200000 : loss = 1.8182\n",
      "130000 / 200000 : loss = 2.1392\n",
      "140000 / 200000 : loss = 2.4560\n",
      "150000 / 200000 : loss = 2.1819\n",
      "160000 / 200000 : loss = 1.9956\n",
      "170000 / 200000 : loss = 2.0607\n",
      "180000 / 200000 : loss = 2.0816\n",
      "190000 / 200000 : loss = 1.7335\n"
     ]
    }
   ],
   "source": [
    "# same optimization as last time\n",
    "\n",
    "max_steps = 200000\n",
    "batch_size = 32\n",
    "losses = []\n",
    "ud = []\n",
    "\n",
    "\n",
    "for i in range(max_steps):\n",
    "\n",
    "    # minibatch calculation\n",
    "    ix = torch.randint(0, xtr.shape[0], (batch_size, ))\n",
    "    xb, yb = xtr[ix], ytr[ix]\n",
    "\n",
    "    # forward pass\n",
    "    logits = model(xb)\n",
    "    loss = F.cross_entropy(logits, yb)\n",
    "\n",
    "    # backward pass\n",
    "    for p in parameters:\n",
    "        p.grad = None\n",
    "    \n",
    "    loss.backward()\n",
    "\n",
    "    # update of parameters\n",
    "    lr = 0.1 if i < 100000 else  0.01\n",
    "    for p in parameters:\n",
    "        p.data += -lr * p.grad\n",
    "\n",
    "    # track stats\n",
    "    losses.append(loss.item())\n",
    "    ud.append([(lr*p.grad.std() / p.data.std()).log10().item() for p in parameters])\n",
    "\n",
    "    if i % 10000 == 0:\n",
    "        print(f\"{i} / {max_steps} : loss = {loss:.4f}\")\n",
    "\n"
   ]
  },
  {
   "cell_type": "code",
   "execution_count": 69,
   "metadata": {},
   "outputs": [
    {
     "data": {
      "text/plain": [
       "[<matplotlib.lines.Line2D at 0x307028160>]"
      ]
     },
     "execution_count": 69,
     "metadata": {},
     "output_type": "execute_result"
    },
    {
     "data": {
      "image/png": "[encoded data removed]",
      "text/plain": [
       "<Figure size 640x480 with 1 Axes>"
      ]
     },
     "metadata": {},
     "output_type": "display_data"
    }
   ],
   "source": [
    "plt.plot(torch.tensor(losses).view(-1, 1000).mean(1))"
   ]
  },
  {
   "cell_type": "code",
   "execution_count": 70,
   "metadata": {},
   "outputs": [],
   "source": [
    "# put layers into eval mode (needed for batch norm)\n",
    "\n",
    "for layer in model.layers:\n",
    "    layer.training = False\n"
   ]
  },
  {
   "cell_type": "code",
   "execution_count": 71,
   "metadata": {},
   "outputs": [
    {
     "name": "stdout",
     "output_type": "stream",
     "text": [
      "train 2.117342233657837\n",
      "val 2.143122911453247\n"
     ]
    }
   ],
   "source": [
    "# evalue the loss\n",
    "\n",
    "@torch.no_grad()\n",
    "\n",
    "def split_loss(split):\n",
    "    x,y = {\n",
    "        \"train\" : (xtr, ytr),\n",
    "        \"val\" : (xdev, ydev),\n",
    "        \"test\" : (xte, yte)\n",
    "    }[split]\n",
    "\n",
    "    logits = model(x)\n",
    "\n",
    "    loss = F.cross_entropy(logits, y)\n",
    "    print(split, loss.item())\n",
    "\n",
    "split_loss(\"train\")\n",
    "split_loss(\"val\")\n",
    "    "
   ]
  },
  {
   "cell_type": "code",
   "execution_count": 72,
   "metadata": {},
   "outputs": [
    {
     "name": "stdout",
     "output_type": "stream",
     "text": [
      "jalla.\n",
      "adya.\n",
      "brezer.\n",
      "jaelari.\n",
      "kashivu.\n",
      "jatzley.\n",
      "yalex.\n",
      "anty.\n",
      "hainaela.\n",
      "nii.\n"
     ]
    }
   ],
   "source": [
    "# sample from the model\n",
    "\n",
    "for _ in range(10):\n",
    "    out = []   \n",
    "    context = [0] * block_size\n",
    "    \n",
    "    while True:\n",
    "        logits = model(torch.tensor([context]))\n",
    "        probs = F.softmax(logits, dim=1)\n",
    "        ix = torch.multinomial(probs, num_samples=1).item()\n",
    "        \n",
    "        context = context[1:] + [ix]\n",
    "        out.append(itos[ix])\n",
    "\n",
    "        if ix == 0:\n",
    "            break\n",
    "\n",
    "    print(\"\".join(out))\n"
   ]
  },
  {
   "cell_type": "code",
   "execution_count": 73,
   "metadata": {},
   "outputs": [],
   "source": [
    "# implementing wavenet\n",
    "\n",
    "# build the dataset\n",
    "block_size = 8\n",
    "\n",
    "def build_dataset(words):\n",
    "    x, y = [], []\n",
    "    \n",
    "    for w in words:\n",
    "        context = [0] * block_size\n",
    "        for ch in w + \".\":\n",
    "            ix = stoi[ch]\n",
    "            x.append(context)\n",
    "            y.append(ix)\n",
    "            context = context[1:] + [ix]\n",
    "    x = torch.tensor(x)\n",
    "    y = torch.tensor(y)\n",
    "\n",
    "    return x, y\n",
    "\n",
    "n1 = int(0.8 * len(words))\n",
    "n2 = int(0.9 * len(words))\n",
    "\n",
    "xtr, ytr = build_dataset(words[:n1])\n",
    "xdev, ydev = build_dataset(words[n1:n2])\n",
    "xte, yte = build_dataset(words[n2:])\n"
   ]
  },
  {
   "cell_type": "code",
   "execution_count": 75,
   "metadata": {},
   "outputs": [
    {
     "name": "stdout",
     "output_type": "stream",
     "text": [
      "........  -->  y\n",
      ".......y  -->  u\n",
      "......yu  -->  h\n",
      ".....yuh  -->  e\n",
      "....yuhe  -->  n\n",
      "...yuhen  -->  g\n",
      "..yuheng  -->  .\n",
      "........  -->  d\n",
      ".......d  -->  i\n",
      "......di  -->  o\n",
      ".....dio  -->  n\n",
      "....dion  -->  d\n",
      "...diond  -->  r\n",
      "..diondr  -->  e\n",
      ".diondre  -->  .\n",
      "........  -->  x\n",
      ".......x  -->  a\n",
      "......xa  -->  v\n",
      ".....xav  -->  i\n",
      "....xavi  -->  e\n"
     ]
    }
   ],
   "source": [
    "for x, y in zip(xtr[:20], ytr[:20]):\n",
    "    print(\"\".join(itos[ix.item()] for ix in x), \" --> \", itos[y.item()])"
   ]
  },
  {
   "cell_type": "code",
   "execution_count": 100,
   "metadata": {},
   "outputs": [],
   "source": [
    "# Layer modules\n",
    "from functools import reduce\n",
    "\n",
    "g = torch.Generator().manual_seed(2147483647)\n",
    "\n",
    "class Linear:\n",
    "    def __init__(self, fan_in, fan_out, bias=True):\n",
    "        self.weights = torch.randn((fan_in, fan_out))\n",
    "        self.bias = torch.randn((fan_out)) if bias else None\n",
    "\n",
    "    def __call__(self, x):\n",
    "        self.out = x @ self.weights\n",
    "        if self.bias is not None:\n",
    "            self.out += self.bias\n",
    "        return self.out\n",
    "    \n",
    "    def parameters(self):\n",
    "        if self.bias is None:\n",
    "            return [self.weights]\n",
    "        return [self.weights, self.bias]\n",
    "    \n",
    "class BatchNorm1d:\n",
    "    def __init__(self, dim, eps = 1e-5, momentum = 0.1):\n",
    "        self.eps = eps\n",
    "        self.momentum = momentum\n",
    "        self.gamma = torch.ones(dim)\n",
    "        self.beta = torch.zeros(dim)\n",
    "        self.training = True\n",
    "        self.running_mean = torch.zeros(dim)\n",
    "        self.running_var = torch.ones(dim)\n",
    "\n",
    "    def __call__(self, x):\n",
    "        if self.training:\n",
    "            if x.ndim == 2:\n",
    "                dim = 0\n",
    "            elif x.ndim == 3:\n",
    "                dim = (0,1)\n",
    "            xmean = x.mean(dim, keepdim=True)\n",
    "            xvar = x.var(dim, keepdim=True)\n",
    "        else:\n",
    "            xmean = self.running_mean\n",
    "            xvar = self.running_var\n",
    "\n",
    "        xhat = (x - xmean) / torch.sqrt(xvar + self.eps)\n",
    "        self.out = self.gamma * xhat + self.beta\n",
    "\n",
    "        # update the buffers:\n",
    "        if self.training:\n",
    "            self.running_mean = self.momentum * xmean + (1 - self.momentum) * self.running_mean\n",
    "            self.running_var = self.momentum * xvar + (1 - self.momentum) * self.running_var\n",
    "\n",
    "        return self.out\n",
    "        \n",
    "    def parameters(self):\n",
    "        return [self.gamma, self.beta]\n",
    "    \n",
    "\n",
    "class Tanh:\n",
    "    def __call__(self, x):\n",
    "        self.out = torch.tanh(x)\n",
    "        return self.out\n",
    "    \n",
    "    def parameters(self):\n",
    "        return []\n",
    "    \n",
    "class Embedding:\n",
    "    def __init__(self, num_emb, emb_dim):\n",
    "        self.weight = torch.randn(num_emb, emb_dim)\n",
    "\n",
    "    def __call__(self, IX):\n",
    "        self.out = self.weight[IX]\n",
    "        return self.out\n",
    "\n",
    "    def parameters(self):\n",
    "        return [self.weight]\n",
    "    \n",
    "class FlattenConsecutive:\n",
    "    def __init__(self, n):\n",
    "        self.n = n\n",
    "\n",
    "    def __call__(self, x):\n",
    "        B, T, C = x.shape\n",
    "        self.out = x.view(B, T//self.n, C*self.n)\n",
    "\n",
    "        if self.out.shape[1] == 1:\n",
    "            self.out = self.out.squeeze(1)\n",
    "\n",
    "        return self.out\n",
    "    \n",
    "    def parameters(self):\n",
    "        return []\n",
    "    \n",
    "\n",
    "class Sequential:\n",
    "    def __init__(self, layers):\n",
    "        self.layers = layers\n",
    "        self.layers[-1].weights *= 0.1\n",
    "\n",
    "    def __call__(self, x):\n",
    "        for layer in self.layers:\n",
    "            x = layer(x)\n",
    "        self.out = x\n",
    "        return self.out\n",
    "    \n",
    "    def parameters(self):\n",
    "        return [p for layer in self.layers for p in layer.parameters()]\n",
    "\n",
    "\n"
   ]
  },
  {
   "cell_type": "code",
   "execution_count": 105,
   "metadata": {},
   "outputs": [
    {
     "name": "stdout",
     "output_type": "stream",
     "text": [
      "Total params :  72617\n"
     ]
    }
   ],
   "source": [
    "torch.manual_seed(42)\n",
    "\n",
    "n_emb = 10\n",
    "n_hidden = 128\n",
    "\n",
    "model = Sequential([\n",
    "    Embedding(vocab_size, n_emb), \n",
    "    FlattenConsecutive(2), Linear(n_emb * 2, n_hidden, bias = False), BatchNorm1d(n_hidden), Tanh(),\n",
    "    FlattenConsecutive(2), Linear(n_hidden * 2, n_hidden, bias = False), BatchNorm1d(n_hidden), Tanh(),\n",
    "    FlattenConsecutive(2), Linear(n_hidden * 2, n_hidden, bias = False), BatchNorm1d(n_hidden), Tanh(),\n",
    "\n",
    "    Linear(n_hidden, vocab_size)\n",
    "])\n",
    "\n",
    "parameters = model.parameters()\n",
    "print(\"Total params : \", sum(p.nelement() for p in parameters))\n",
    "for p in parameters:\n",
    "    p.requires_grad = True\n"
   ]
  },
  {
   "cell_type": "code",
   "execution_count": 106,
   "metadata": {},
   "outputs": [
    {
     "name": "stdout",
     "output_type": "stream",
     "text": [
      "torch.Size([4, 8])\n"
     ]
    }
   ],
   "source": [
    "ix = torch.randint(0, xtr.shape[0], (4,))\n",
    "xb, yb = xtr[ix], ytr[ix]\n",
    "\n",
    "logits = model(xb)\n",
    "print(xb.shape)\n"
   ]
  },
  {
   "cell_type": "code",
   "execution_count": 107,
   "metadata": {},
   "outputs": [
    {
     "name": "stdout",
     "output_type": "stream",
     "text": [
      "Embedding  :  (4, 8, 10)\n",
      "FlattenConsecutive  :  (4, 4, 20)\n",
      "Linear  :  (4, 4, 128)\n",
      "BatchNorm1d  :  (4, 4, 128)\n",
      "Tanh  :  (4, 4, 128)\n",
      "FlattenConsecutive  :  (4, 2, 256)\n",
      "Linear  :  (4, 2, 128)\n",
      "BatchNorm1d  :  (4, 2, 128)\n",
      "Tanh  :  (4, 2, 128)\n",
      "FlattenConsecutive  :  (4, 256)\n",
      "Linear  :  (4, 128)\n",
      "BatchNorm1d  :  (4, 128)\n",
      "Tanh  :  (4, 128)\n",
      "Linear  :  (4, 27)\n"
     ]
    }
   ],
   "source": [
    "for layer in model.layers:\n",
    "    print(layer.__class__.__name__, \" : \", tuple(layer.out.shape))"
   ]
  },
  {
   "cell_type": "code",
   "execution_count": 108,
   "metadata": {},
   "outputs": [
    {
     "name": "stdout",
     "output_type": "stream",
     "text": [
      "0 / 200000 : loss = 3.7205\n",
      "10000 / 200000 : loss = 1.9745\n",
      "20000 / 200000 : loss = 2.2223\n",
      "30000 / 200000 : loss = 2.0242\n",
      "40000 / 200000 : loss = 2.0470\n",
      "50000 / 200000 : loss = 2.1469\n",
      "60000 / 200000 : loss = 2.6070\n",
      "70000 / 200000 : loss = 2.4516\n",
      "80000 / 200000 : loss = 2.1815\n",
      "90000 / 200000 : loss = 2.2008\n",
      "100000 / 200000 : loss = 1.8215\n",
      "110000 / 200000 : loss = 2.0038\n",
      "120000 / 200000 : loss = 2.2624\n",
      "130000 / 200000 : loss = 2.2221\n",
      "140000 / 200000 : loss = 2.3419\n",
      "150000 / 200000 : loss = 2.0710\n",
      "160000 / 200000 : loss = 2.2679\n",
      "170000 / 200000 : loss = 2.1266\n",
      "180000 / 200000 : loss = 1.8666\n",
      "190000 / 200000 : loss = 2.0216\n"
     ]
    }
   ],
   "source": [
    "# same optimization as last time\n",
    "\n",
    "max_steps = 200000\n",
    "batch_size = 32\n",
    "losses = []\n",
    "ud = []\n",
    "\n",
    "\n",
    "for i in range(max_steps):\n",
    "\n",
    "    # minibatch calculation\n",
    "    ix = torch.randint(0, xtr.shape[0], (batch_size, ))\n",
    "    xb, yb = xtr[ix], ytr[ix]\n",
    "\n",
    "    # forward pass\n",
    "    logits = model(xb)\n",
    "    loss = F.cross_entropy(logits, yb)\n",
    "\n",
    "    # backward pass\n",
    "    for p in parameters:\n",
    "        p.grad = None\n",
    "    \n",
    "    loss.backward()\n",
    "\n",
    "    # update of parameters\n",
    "    lr = 0.1 if i < 100000 else  0.01\n",
    "    for p in parameters:\n",
    "        p.data += -lr * p.grad\n",
    "\n",
    "    # track stats\n",
    "    losses.append(loss.item())\n",
    "    ud.append([(lr*p.grad.std() / p.data.std()).log10().item() for p in parameters])\n",
    "\n",
    "    if i % 10000 == 0:\n",
    "        print(f\"{i} / {max_steps} : loss = {loss:.4f}\")\n",
    "\n"
   ]
  },
  {
   "cell_type": "code",
   "execution_count": 109,
   "metadata": {},
   "outputs": [
    {
     "data": {
      "text/plain": [
       "[<matplotlib.lines.Line2D at 0x53d5f82b0>]"
      ]
     },
     "execution_count": 109,
     "metadata": {},
     "output_type": "execute_result"
    },
    {
     "data": {
      "image/png": "[encoded data removed]",
      "text/plain": [
       "<Figure size 640x480 with 1 Axes>"
      ]
     },
     "metadata": {},
     "output_type": "display_data"
    }
   ],
   "source": [
    "plt.plot(torch.tensor(losses).view(-1, 1000).mean(1))"
   ]
  },
  {
   "cell_type": "code",
   "execution_count": 110,
   "metadata": {},
   "outputs": [],
   "source": [
    "# put layers into eval mode (needed for batch norm)\n",
    "\n",
    "for layer in model.layers:\n",
    "    layer.training = False\n"
   ]
  },
  {
   "cell_type": "code",
   "execution_count": 111,
   "metadata": {},
   "outputs": [
    {
     "name": "stdout",
     "output_type": "stream",
     "text": [
      "train 2.0310628414154053\n",
      "val 2.0847766399383545\n"
     ]
    }
   ],
   "source": [
    "# evalue the loss\n",
    "\n",
    "@torch.no_grad()\n",
    "\n",
    "def split_loss(split):\n",
    "    x,y = {\n",
    "        \"train\" : (xtr, ytr),\n",
    "        \"val\" : (xdev, ydev),\n",
    "        \"test\" : (xte, yte)\n",
    "    }[split]\n",
    "\n",
    "    logits = model(x)\n",
    "\n",
    "    loss = F.cross_entropy(logits, y)\n",
    "    print(split, loss.item())\n",
    "\n",
    "split_loss(\"train\")\n",
    "split_loss(\"val\")\n",
    "    "
   ]
  },
  {
   "cell_type": "code",
   "execution_count": 112,
   "metadata": {},
   "outputs": [
    {
     "name": "stdout",
     "output_type": "stream",
     "text": [
      "iluhans.\n",
      "vena.\n",
      "lakon.\n",
      "seyon.\n",
      "lairin.\n",
      "pobass.\n",
      "garisdy.\n",
      "juchan.\n",
      "danrym.\n",
      "ashur.\n"
     ]
    }
   ],
   "source": [
    "# sample from the model\n",
    "\n",
    "for _ in range(10):\n",
    "    out = []   \n",
    "    context = [0] * block_size\n",
    "    \n",
    "    while True:\n",
    "        logits = model(torch.tensor([context]))\n",
    "        probs = F.softmax(logits, dim=1)\n",
    "        ix = torch.multinomial(probs, num_samples=1).item()\n",
    "        \n",
    "        context = context[1:] + [ix]\n",
    "        out.append(itos[ix])\n",
    "\n",
    "        if ix == 0:\n",
    "            break\n",
    "\n",
    "    print(\"\".join(out))\n"
   ]
  },
  {
   "cell_type": "code",
   "execution_count": null,
   "metadata": {},
   "outputs": [],
   "source": []
  },
  {
   "cell_type": "code",
   "execution_count": null,
   "metadata": {},
   "outputs": [],
   "source": []
  }
 ],
 "metadata": {
  "kernelspec": {
   "display_name": "Python 3",
   "language": "python",
   "name": "python3"
  },
  "language_info": {
   "codemirror_mode": {
    "name": "ipython",
    "version": 3
   },
   "file_extension": ".py",
   "mimetype": "text/x-python",
   "name": "python",
   "nbconvert_exporter": "python",
   "pygments_lexer": "ipython3",
   "version": "3.10.6"
  }
 },
 "nbformat": 4,
 "nbformat_minor": 2
}
