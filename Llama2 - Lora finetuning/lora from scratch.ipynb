{
 "cells": [
  {
   "cell_type": "markdown",
   "metadata": {},
   "source": [
    "### Singular Value Decomposition"
   ]
  },
  {
   "cell_type": "code",
   "execution_count": 1,
   "metadata": {},
   "outputs": [],
   "source": [
    "import torch\n",
    "import numpy as np\n",
    "_ = torch.manual_seed(0)"
   ]
  },
  {
   "cell_type": "code",
   "execution_count": 3,
   "metadata": {},
   "outputs": [
    {
     "name": "stdout",
     "output_type": "stream",
     "text": [
      "tensor([[-1.7535e-01, -4.1425e-01, -1.6431e-01,  5.8721e-01, -7.5694e-02,\n",
      "          9.2418e-01, -1.0040e-01,  1.7763e-01,  2.7832e-01, -3.5177e-01],\n",
      "        [ 5.0407e-02,  8.5691e-01, -5.6317e-01, -4.2222e-01, -2.0700e+00,\n",
      "         -2.0448e+00, -1.1324e-01,  9.9658e-02, -1.4092e-01,  1.1584e+00],\n",
      "        [ 3.1282e-01,  8.3731e-03,  8.9758e-01, -7.9662e-01,  2.2064e+00,\n",
      "          1.1310e-01,  3.1982e-01, -4.6613e-01, -4.3621e-01, -4.1948e-01],\n",
      "        [ 2.6040e-01,  1.3233e+00, -3.4182e-01, -1.1152e+00, -1.8951e+00,\n",
      "         -3.0799e+00,  1.2716e-02, -1.1913e-01, -4.7177e-01,  1.5371e+00],\n",
      "        [ 8.6263e-01,  9.9178e-02,  2.4122e+00, -2.2229e+00,  5.8687e+00,\n",
      "          1.2840e-01,  8.6730e-01, -1.2699e+00, -1.2092e+00, -1.0477e+00],\n",
      "        [ 1.3888e-01, -1.7935e-01,  5.4995e-01, -2.9080e-01,  1.4986e+00,\n",
      "          4.9165e-01,  1.7725e-01, -2.4434e-01, -1.7855e-01, -4.4858e-01],\n",
      "        [-3.0799e-03, -1.3581e+00,  1.1147e+00,  4.7428e-01,  3.8284e+00,\n",
      "          3.2736e+00,  2.5840e-01, -2.7283e-01,  1.1640e-01, -1.9420e+00],\n",
      "        [-9.6252e-02, -5.4665e-01,  1.7393e-01,  4.3198e-01,  8.6356e-01,\n",
      "          1.2771e+00,  6.3756e-03,  3.2286e-02,  1.7913e-01, -6.5059e-01],\n",
      "        [ 4.1431e-01, -2.4893e-01,  1.4039e+00, -9.6579e-01,  3.6595e+00,\n",
      "          7.7679e-01,  4.7367e-01, -6.7048e-01, -5.5627e-01, -9.2820e-01],\n",
      "        [ 2.4057e-01,  2.5323e-01,  4.8611e-01, -6.9740e-01,  9.9716e-01,\n",
      "         -5.0812e-01,  1.9843e-01, -3.0806e-01, -3.5583e-01,  3.1063e-02]])\n"
     ]
    }
   ],
   "source": [
    "# create a 10x10 matrix with rank  = 2\n",
    "\n",
    "d, k = 10, 10\n",
    "w_rank = 2\n",
    "\n",
    "W = torch.randn(d, w_rank) @ torch.randn(w_rank, k)\n",
    "print(W)\n"
   ]
  },
  {
   "cell_type": "code",
   "execution_count": 4,
   "metadata": {},
   "outputs": [
    {
     "name": "stdout",
     "output_type": "stream",
     "text": [
      "Rank of W :  2\n"
     ]
    }
   ],
   "source": [
    "# evaluate the rank of the matrix\n",
    "w_rank = np.linalg.matrix_rank(W)\n",
    "print(\"Rank of W : \", w_rank)"
   ]
  },
  {
   "cell_type": "markdown",
   "metadata": {},
   "source": [
    "### Calculate the SVD of the W matrix"
   ]
  },
  {
   "cell_type": "code",
   "execution_count": 5,
   "metadata": {},
   "outputs": [
    {
     "name": "stdout",
     "output_type": "stream",
     "text": [
      "shape of B :  torch.Size([10, 2])\n",
      "shape of A :  torch.Size([2, 10])\n"
     ]
    }
   ],
   "source": [
    "U, S, V = torch.svd(W)\n",
    "\n",
    "# for the rank factorization keep only the first 3 singular vlaues (and corresponding columns of U and V)\n",
    "U_r = U[:, :w_rank]\n",
    "S_r = torch.diag(S[:w_rank])\n",
    "V_r = V[:, :w_rank].t()\n",
    "\n",
    "# compute c = U_r, * S_r and R = V_r\n",
    "B = U_r @ S_r\n",
    "A = V_r\n",
    "\n",
    "print(\"shape of B : \", B.shape)\n",
    "print(\"shape of A : \", A.shape)"
   ]
  },
  {
   "cell_type": "code",
   "execution_count": 7,
   "metadata": {},
   "outputs": [
    {
     "name": "stdout",
     "output_type": "stream",
     "text": [
      "Original y using w : \n",
      " tensor([ 0.0391,  0.8319, -1.9526,  1.0540, -6.0926, -0.7195, -2.7809,  0.6213,\n",
      "        -3.8685, -1.9149])\n",
      "\n",
      "y computed using SVD : \n",
      " tensor([ 0.0391,  0.8319, -1.9526,  1.0540, -6.0926, -0.7195, -2.7809,  0.6213,\n",
      "        -3.8685, -1.9149])\n"
     ]
    }
   ],
   "source": [
    "# generate random bias and input\n",
    "bias = torch.randn(d)\n",
    "x = torch.randn(d)\n",
    "\n",
    "# compute y = Wx + b\n",
    "y = W @ x + bias\n",
    "\n",
    "# compute y' = CRx + b\n",
    "y_prime = (B @ A) @ x + bias\n",
    "\n",
    "print(\"Original y using w : \\n\", y)\n",
    "print(\"\")\n",
    "print(\"y computed using SVD : \\n\", y_prime)"
   ]
  },
  {
   "cell_type": "code",
   "execution_count": 8,
   "metadata": {},
   "outputs": [
    {
     "name": "stdout",
     "output_type": "stream",
     "text": [
      "Total number of parameters of W :  100\n",
      "total number of parameters for B and A :  40\n"
     ]
    }
   ],
   "source": [
    "print(\"Total number of parameters of W : \", W.nelement())\n",
    "print(\"total number of parameters for B and A : \", B.nelement() + A.nelement())"
   ]
  },
  {
   "cell_type": "markdown",
   "metadata": {},
   "source": [
    "# LoRA implementation using PyTorch"
   ]
  },
  {
   "cell_type": "code",
   "execution_count": 13,
   "metadata": {},
   "outputs": [],
   "source": [
    "import torch\n",
    "import torchvision.datasets as datasets\n",
    "import torchvision.transforms as transforms\n",
    "import torch.nn as nn\n",
    "import matplotlib.pyplot as plt\n",
    "from tqdm import tqdm"
   ]
  },
  {
   "cell_type": "markdown",
   "metadata": {},
   "source": [
    "#### Make the model deterministic"
   ]
  },
  {
   "cell_type": "code",
   "execution_count": 14,
   "metadata": {},
   "outputs": [],
   "source": [
    "_ = torch.manual_seed(0)"
   ]
  },
  {
   "cell_type": "markdown",
   "metadata": {},
   "source": [
    "#### Network to classify MNIST data"
   ]
  },
  {
   "cell_type": "code",
   "execution_count": 17,
   "metadata": {},
   "outputs": [],
   "source": [
    "transform = transforms.Compose([transforms.ToTensor(), transforms.Normalize((0.1307, ), (0.3081, ))])\n",
    "\n",
    "# load the MNIST data\n",
    "mnist_trainset = datasets.MNIST(root = \"./data\", train=True, download=True, transform=transform)\n",
    "# create a dataloade for training\n",
    "train_loader = torch.utils.data.DataLoader(mnist_trainset, batch_size=10, shuffle=True)\n",
    "\n",
    "\n",
    "# load the mnist test set\n",
    "mnist_testset = datasets.MNIST(root = \"./data\", train = False, download=True, transform = transform)\n",
    "test_loader = torch.utils.data.DataLoader(mnist_testset, batch_size=10, shuffle=True)\n",
    "\n",
    "# Define the device\n",
    "device = torch.device(\"mps\")"
   ]
  },
  {
   "cell_type": "code",
   "execution_count": 24,
   "metadata": {},
   "outputs": [],
   "source": [
    "# Neural network to classify the digits\n",
    "\n",
    "class Net(nn.Module):\n",
    "    def __init__(self, hidden_size1 = 1000, hidden_size2 = 2000):\n",
    "        super(Net, self).__init__()\n",
    "        self.linear1 = nn.Linear(28*28, hidden_size1)\n",
    "        self.linear2 = nn.Linear(hidden_size1, hidden_size2)\n",
    "        self.linear3 = nn.Linear(hidden_size2, 10)\n",
    "        self.relu = nn.ReLU()\n",
    "\n",
    "    def forward(self, img):\n",
    "        x = img.view(-1, 28*28)\n",
    "        x = self.relu(self.linear1(x))\n",
    "        x = self.relu(self.linear2(x))\n",
    "        x = self.linear3(x)\n",
    "        return x\n",
    "    \n",
    "net = Net().to(device)\n"
   ]
  },
  {
   "cell_type": "code",
   "execution_count": 25,
   "metadata": {},
   "outputs": [
    {
     "name": "stderr",
     "output_type": "stream",
     "text": [
      "Epoch 1: 100%|██████████| 6000/6000 [00:55<00:00, 108.81it/s, loss=0.242]\n"
     ]
    }
   ],
   "source": [
    "# train the network only for 1 epoch to similate a complete general pre training on the data\n",
    "def train(train_loader, net, epochs=5, total_iterations_limit = None):\n",
    "    cross_e1 = nn.CrossEntropyLoss()\n",
    "    optimizer = torch.optim.Adam(net.parameters(), lr=0.001)\n",
    "\n",
    "    total_iterations = 0\n",
    "    \n",
    "    # define the trianing loop\n",
    "    for epoch in range(epochs):\n",
    "        # set the model in training mode\n",
    "        net.train()\n",
    "        # track the total loss\n",
    "        loss_sum = 0\n",
    "        # track the number of iterations for the current epoch\n",
    "        num_terations = 0\n",
    "\n",
    "        # init the data iterator \n",
    "        data_iterator = tqdm(train_loader, desc = f\"Epoch {epoch+1}\")\n",
    "\n",
    "        # set the total_iteration_limit to the data_iterator\n",
    "        if total_iterations_limit is not None:\n",
    "            data_iterator.total = total_iterations_limit\n",
    "        \n",
    "        # iterate through the batch in the data iterator\n",
    "        for data in data_iterator:\n",
    "            # track the stats\n",
    "            num_terations += 1\n",
    "            total_iterations += 1\n",
    "\n",
    "            # retrive the input and output from the data iterator\n",
    "            x, y = data\n",
    "            \n",
    "            # assing the tensors to the gpu\n",
    "            x = x.to(device)\n",
    "            y = y.to(device)    \n",
    "\n",
    "            # reset the optimizer\n",
    "            optimizer.zero_grad()\n",
    "            \n",
    "            # get the predictions from the neural network\n",
    "            output = net(x.view(-1, 28*28))\n",
    "\n",
    "            # calculate the loss\n",
    "            loss = cross_e1(output, y)\n",
    "\n",
    "            loss_sum += loss.item()\n",
    "\n",
    "            # track stats\n",
    "            avg_loss = loss_sum / num_terations\n",
    "            data_iterator.set_postfix(loss=avg_loss)\n",
    "\n",
    "            # backward pass\n",
    "            loss.backward()\n",
    "\n",
    "            # update params\n",
    "            optimizer.step()\n",
    "\n",
    "            if total_iterations_limit is not None and total_iterations_limit >= total_iterations:\n",
    "                return\n",
    "            \n",
    "train(train_loader, net, epochs=1)\n",
    "\n",
    "\n",
    "        \n",
    "\n"
   ]
  },
  {
   "cell_type": "markdown",
   "metadata": {},
   "source": [
    "### keep a copy of the original weigts so that later we can prove that fine tuning with lora doesn't alter the original weights\n"
   ]
  },
  {
   "cell_type": "code",
   "execution_count": 28,
   "metadata": {},
   "outputs": [],
   "source": [
    "original_weight = {}\n",
    "for name, param in net.named_parameters():\n",
    "    original_weight[name] = param.clone().detach()"
   ]
  },
  {
   "cell_type": "markdown",
   "metadata": {},
   "source": [
    "### The performance of the pretrained network "
   ]
  },
  {
   "cell_type": "code",
   "execution_count": 31,
   "metadata": {},
   "outputs": [
    {
     "name": "stderr",
     "output_type": "stream",
     "text": [
      "Testing: 100%|██████████| 1000/1000 [00:06<00:00, 151.06it/s]"
     ]
    },
    {
     "name": "stdout",
     "output_type": "stream",
     "text": [
      "Accuracy : 0.961\n",
      "wrong counts fopr the digit 0 : 28\n",
      "wrong counts fopr the digit 1 : 16\n",
      "wrong counts fopr the digit 2 : 88\n",
      "wrong counts fopr the digit 3 : 37\n",
      "wrong counts fopr the digit 4 : 39\n",
      "wrong counts fopr the digit 5 : 27\n",
      "wrong counts fopr the digit 6 : 18\n",
      "wrong counts fopr the digit 7 : 50\n",
      "wrong counts fopr the digit 8 : 50\n",
      "wrong counts fopr the digit 9 : 35\n"
     ]
    },
    {
     "name": "stderr",
     "output_type": "stream",
     "text": [
      "\n"
     ]
    }
   ],
   "source": [
    "def test():\n",
    "    correct = 0\n",
    "    total = 0\n",
    "\n",
    "    wrong_count = [0 for i in range(10)]\n",
    "\n",
    "    with torch.no_grad():\n",
    "        for data in tqdm(test_loader, desc = \"Testing\"):\n",
    "            x, y = data\n",
    "            x = x.to(device)\n",
    "            y = y.to(device)\n",
    "\n",
    "            output = net(x.view(-1, 28*28))\n",
    "\n",
    "            for idx, i in enumerate(output):\n",
    "                if torch.argmax(i) == y[idx]:\n",
    "                    correct += 1\n",
    "                else:\n",
    "                    wrong_count[y[idx]] += 1\n",
    "                total += 1\n",
    "    print(f\"Accuracy : {round(correct / total, 3)}\")\n",
    "    for i in range(len(wrong_count)):\n",
    "        print(f\"wrong counts for the digit {i} : {wrong_count[i]}\")\n",
    "test()\n"
   ]
  },
  {
   "cell_type": "markdown",
   "metadata": {},
   "source": [
    "### Visualizing the number of parameters "
   ]
  },
  {
   "cell_type": "code",
   "execution_count": 33,
   "metadata": {},
   "outputs": [
    {
     "name": "stdout",
     "output_type": "stream",
     "text": [
      "Layer 1: W torch.Size([1000, 784]) + B torch.Size([1000])\n",
      "Layer 2: W torch.Size([2000, 1000]) + B torch.Size([2000])\n",
      "Layer 3: W torch.Size([10, 2000]) + B torch.Size([10])\n",
      "Total number of parameters : 2,807,010\n"
     ]
    }
   ],
   "source": [
    "total_params_original = 0\n",
    "\n",
    "for index, layer in enumerate([net.linear1, net.linear2, net.linear3]):\n",
    "    total_params_original += layer.weight.nelement() + layer.bias.nelement()\n",
    "    print(f\"Layer {index+1}: W {layer.weight.shape} + B {layer.bias.shape}\")\n",
    "print(f\"Total number of parameters : {total_params_original:,}\")"
   ]
  },
  {
   "cell_type": "markdown",
   "metadata": {},
   "source": [
    "# Introducing LoRA"
   ]
  },
  {
   "cell_type": "code",
   "execution_count": 40,
   "metadata": {},
   "outputs": [],
   "source": [
    "class LoRAParametrization(nn.Module):\n",
    "    def __init__(self, features_in, features_out, rank=1, alpha=1, device=\"mps\"):\n",
    "        super().__init__()\n",
    "\n",
    "        self.lora_a = nn.Parameter(torch.zeros((rank, features_out)).to(device))\n",
    "        self.lora_b = nn.Parameter(torch.zeros((features_in, rank)).to(device))\n",
    "\n",
    "\n",
    "        self.scale = alpha / rank\n",
    "        self.enabled = True\n",
    "\n",
    "    def forward(self, original_weights):\n",
    "        if self.enabled:\n",
    "            # return W + (B*A) * scale\n",
    "            return original_weights + torch.matmul(self.lora_b, self.lora_a).view(original_weights.shape) * self.scale\n",
    "        \n",
    "        else:\n",
    "            return original_weights"
   ]
  },
  {
   "cell_type": "markdown",
   "metadata": {},
   "source": [
    "### Add the parameters"
   ]
  },
  {
   "cell_type": "code",
   "execution_count": 47,
   "metadata": {},
   "outputs": [],
   "source": [
    "import torch.nn.utils.parametrize as parameterize\n",
    "\n",
    "\n",
    "def linear_layer_parametrization(layer, device, rank=1, lora_alpha=1):\n",
    "    features_in, features_out = layer.weight.shape\n",
    "\n",
    "    return LoRAParametrization(\n",
    "        features_in, features_out, rank, lora_alpha, device\n",
    "    )\n",
    "\n",
    "parameterize.register_parametrization(\n",
    "    net.linear1, \"weight\", linear_layer_parametrization(net.linear1, device)\n",
    ")\n",
    "\n",
    "parameterize.register_parametrization(\n",
    "    net.linear2, \"weight\", linear_layer_parametrization(net.linear2, device)\n",
    ")\n",
    "\n",
    "parameterize.register_parametrization(\n",
    "    net.linear3, \"weight\", linear_layer_parametrization(net.linear3, device)\n",
    ")\n",
    "\n",
    "def enable_disable_lora(enabled=True):\n",
    "    for layer in [net.linear1, net.linear2, net.linear3]:\n",
    "        layer.parametrizations[\"weight\"][0].enabled = enabled"
   ]
  },
  {
   "cell_type": "code",
   "execution_count": 43,
   "metadata": {},
   "outputs": [
    {
     "name": "stdout",
     "output_type": "stream",
     "text": [
      "Layer 1 : W - torch.Size([1000, 784]) + B - torch.Size([1000]) + Lora_A torch.Size([1, 784]) + Lora_B torch.Size([1000, 1])\n",
      "Layer 2 : W - torch.Size([2000, 1000]) + B - torch.Size([2000]) + Lora_A torch.Size([1, 1000]) + Lora_B torch.Size([2000, 1])\n",
      "Layer 3 : W - torch.Size([10, 2000]) + B - torch.Size([10]) + Lora_A torch.Size([1, 2000]) + Lora_B torch.Size([10, 1])\n",
      "Total params (original) : 2,807,010\n",
      "Total params (original + LoRA) : 2,813,804\n",
      "Params introduced by LoRA : 6,794\n",
      "Prams increment : 0.242%\n"
     ]
    }
   ],
   "source": [
    "total_params_lora = 0\n",
    "total_params_non_lora = 0\n",
    "\n",
    "for index, layer in enumerate([net.linear1, net.linear2, net.linear3]):\n",
    "    total_params_lora += layer.parametrizations[\"weight\"][0].lora_a.nelement() + layer.parametrizations[\"weight\"][0].lora_b.nelement()\n",
    "    total_params_non_lora += layer.weight.nelement() + layer.bias.nelement()\n",
    "\n",
    "    print(\n",
    "        f\"Layer {index + 1} : W - {layer.weight.shape} + B - {layer.bias.shape} + Lora_A {layer.parametrizations['weight'][0].lora_a.shape} + Lora_B {layer.parametrizations['weight'][0].lora_b.shape}\"\n",
    "    )\n",
    "\n",
    "assert total_params_non_lora == total_params_original\n",
    "print(f\"Total params (original) : {total_params_non_lora:,}\")\n",
    "print(f\"Total params (original + LoRA) : {total_params_non_lora + total_params_lora:,}\")\n",
    "print(f\"Params introduced by LoRA : {total_params_lora:,}\")\n",
    "params_inc = (total_params_lora / total_params_non_lora) * 100\n",
    "print(f\"Prams increment : {params_inc:.3f}%\")"
   ]
  },
  {
   "cell_type": "markdown",
   "metadata": {},
   "source": [
    "### Freeze all the params of the original network"
   ]
  },
  {
   "cell_type": "code",
   "execution_count": 46,
   "metadata": {},
   "outputs": [
    {
     "name": "stdout",
     "output_type": "stream",
     "text": [
      "Freezing non-lora parameter : linear1.bias\n",
      "Freezing non-lora parameter : linear1.parametrizations.weight.original\n",
      "Freezing non-lora parameter : linear2.bias\n",
      "Freezing non-lora parameter : linear2.parametrizations.weight.original\n",
      "Freezing non-lora parameter : linear3.bias\n",
      "Freezing non-lora parameter : linear3.parametrizations.weight.original\n"
     ]
    },
    {
     "name": "stderr",
     "output_type": "stream",
     "text": [
      "Epoch 1:   0%|          | 0/596 [00:00<?, ?it/s]"
     ]
    },
    {
     "name": "stderr",
     "output_type": "stream",
     "text": [
      "Epoch 1:   0%|          | 0/100 [00:00<?, ?it/s, loss=0.371]\n"
     ]
    }
   ],
   "source": [
    "for name, param in net.named_parameters():\n",
    "    if \"lora\" not in name:\n",
    "        print(f\"Freezing non-lora parameter : {name}\")\n",
    "        param.requires_grad = False\n",
    "\n",
    "# keeping only the digit 2\n",
    "mnist_trainset = datasets.MNIST(root=\"./data\", train=True, download=True, transform=transform)\n",
    "exclude_indices = mnist_trainset.targets == 2\n",
    "mnist_trainset.data = mnist_trainset.data[exclude_indices]\n",
    "mnist_trainset.targets = mnist_trainset.targets[exclude_indices]\n",
    "\n",
    "# create a new dataloader for the tranining\n",
    "train_loader = torch.utils.data.DataLoader(mnist_trainset, batch_size=10, shuffle=True)\n",
    "\n",
    "\n",
    "train(train_loader, net, epochs=1, total_iterations_limit=100)"
   ]
  },
  {
   "cell_type": "markdown",
   "metadata": {},
   "source": [
    "### Verifying that the finetuning didnt affect the original weights"
   ]
  },
  {
   "cell_type": "code",
   "execution_count": 48,
   "metadata": {},
   "outputs": [],
   "source": [
    "assert torch.all(net.linear1.parametrizations.weight.original == original_weight[\"linear1.weight\"])\n",
    "assert torch.all(net.linear2.parametrizations.weight.original == original_weight[\"linear2.weight\"])\n",
    "assert torch.all(net.linear3.parametrizations.weight.original == original_weight[\"linear3.weight\"])\n",
    "\n",
    "enable_disable_lora(enabled=True)\n",
    "\n",
    "assert torch.equal(net.linear1.weight, net.linear1.parametrizations.weight.original + net.linear1.parametrizations.weight[0].lora_b @ net.linear1.parametrizations.weight[0].lora_a)\n",
    "\n",
    "enable_disable_lora(enabled=False)\n",
    "\n",
    "assert torch.equal(net.linear1.weight, original_weight[\"linear1.weight\"])"
   ]
  },
  {
   "cell_type": "markdown",
   "metadata": {},
   "source": [
    "### Test the network with Lora on the new dataset"
   ]
  },
  {
   "cell_type": "code",
   "execution_count": 49,
   "metadata": {},
   "outputs": [
    {
     "name": "stderr",
     "output_type": "stream",
     "text": [
      "Testing: 100%|██████████| 1000/1000 [00:11<00:00, 85.70it/s]"
     ]
    },
    {
     "name": "stdout",
     "output_type": "stream",
     "text": [
      "Accuracy : 0.961\n",
      "wrong counts fopr the digit 0 : 28\n",
      "wrong counts fopr the digit 1 : 16\n",
      "wrong counts fopr the digit 2 : 88\n",
      "wrong counts fopr the digit 3 : 37\n",
      "wrong counts fopr the digit 4 : 39\n",
      "wrong counts fopr the digit 5 : 27\n",
      "wrong counts fopr the digit 6 : 18\n",
      "wrong counts fopr the digit 7 : 50\n",
      "wrong counts fopr the digit 8 : 50\n",
      "wrong counts fopr the digit 9 : 35\n"
     ]
    },
    {
     "name": "stderr",
     "output_type": "stream",
     "text": [
      "\n"
     ]
    }
   ],
   "source": [
    "enable_disable_lora(enabled=True)\n",
    "test()"
   ]
  },
  {
   "cell_type": "code",
   "execution_count": null,
   "metadata": {},
   "outputs": [],
   "source": []
  }
 ],
 "metadata": {
  "kernelspec": {
   "display_name": "Python 3",
   "language": "python",
   "name": "python3"
  },
  "language_info": {
   "codemirror_mode": {
    "name": "ipython",
    "version": 3
   },
   "file_extension": ".py",
   "mimetype": "text/x-python",
   "name": "python",
   "nbconvert_exporter": "python",
   "pygments_lexer": "ipython3",
   "version": "3.10.6"
  }
 },
 "nbformat": 4,
 "nbformat_minor": 2
}
